{
  "nbformat": 4,
  "nbformat_minor": 0,
  "metadata": {
    "colab": {
      "provenance": [],
      "gpuType": "T4",
      "authorship_tag": "ABX9TyPw5qMiufB/22J1T1Hu5QPP",
      "include_colab_link": true
    },
    "kernelspec": {
      "name": "python3",
      "display_name": "Python 3"
    },
    "language_info": {
      "name": "python"
    },
    "accelerator": "GPU"
  },
  "cells": [
    {
      "cell_type": "markdown",
      "metadata": {
        "id": "view-in-github",
        "colab_type": "text"
      },
      "source": [
        "<a href=\"https://colab.research.google.com/github/JaveyBae/Essentials-for-NLP/blob/main/laion_CLIP_ViT_L_14_laion2B_s32B_b82K_script.ipynb\" target=\"_parent\"><img src=\"https://colab.research.google.com/assets/colab-badge.svg\" alt=\"Open In Colab\"/></a>"
      ]
    },
    {
      "cell_type": "code",
      "execution_count": 13,
      "metadata": {
        "colab": {
          "base_uri": "https://localhost:8080/"
        },
        "id": "LLRkHr8_LPHL",
        "outputId": "e3da3c09-b6ed-4607-931d-366cdcad67e1"
      },
      "outputs": [
        {
          "output_type": "stream",
          "name": "stdout",
          "text": [
            "Cloning into 'vwsd_experiment'...\n",
            "remote: Enumerating objects: 1620, done.\u001b[K\n",
            "remote: Counting objects: 100% (35/35), done.\u001b[K\n",
            "remote: Compressing objects: 100% (26/26), done.\u001b[K\n",
            "^C\n",
            "[Errno 2] No such file or directory: 'vwsd_experiment'\n",
            "/content/vwsd_experiment\n",
            "Processing /content/vwsd_experiment\n",
            "  Preparing metadata (setup.py) ... \u001b[?25l\u001b[?25hdone\n",
            "Requirement already satisfied: pandas in /usr/local/lib/python3.12/dist-packages (from vwsd==0.0.0) (2.2.2)\n",
            "Requirement already satisfied: torch in /usr/local/lib/python3.12/dist-packages (from vwsd==0.0.0) (2.8.0+cu126)\n",
            "Requirement already satisfied: transformers in /usr/local/lib/python3.12/dist-packages (from vwsd==0.0.0) (4.57.1)\n",
            "Requirement already satisfied: Pillow in /usr/local/lib/python3.12/dist-packages (from vwsd==0.0.0) (11.3.0)\n",
            "Requirement already satisfied: numpy in /usr/local/lib/python3.12/dist-packages (from vwsd==0.0.0) (2.0.2)\n",
            "Requirement already satisfied: torchvision in /usr/local/lib/python3.12/dist-packages (from vwsd==0.0.0) (0.23.0+cu126)\n",
            "Requirement already satisfied: matplotlib in /usr/local/lib/python3.12/dist-packages (from vwsd==0.0.0) (3.10.0)\n",
            "Requirement already satisfied: ranx in /usr/local/lib/python3.12/dist-packages (from vwsd==0.0.0) (0.3.21)\n",
            "Requirement already satisfied: sentence-transformers in /usr/local/lib/python3.12/dist-packages (from vwsd==0.0.0) (5.1.1)\n",
            "Requirement already satisfied: contourpy>=1.0.1 in /usr/local/lib/python3.12/dist-packages (from matplotlib->vwsd==0.0.0) (1.3.3)\n",
            "Requirement already satisfied: cycler>=0.10 in /usr/local/lib/python3.12/dist-packages (from matplotlib->vwsd==0.0.0) (0.12.1)\n",
            "Requirement already satisfied: fonttools>=4.22.0 in /usr/local/lib/python3.12/dist-packages (from matplotlib->vwsd==0.0.0) (4.60.1)\n",
            "Requirement already satisfied: kiwisolver>=1.3.1 in /usr/local/lib/python3.12/dist-packages (from matplotlib->vwsd==0.0.0) (1.4.9)\n",
            "Requirement already satisfied: packaging>=20.0 in /usr/local/lib/python3.12/dist-packages (from matplotlib->vwsd==0.0.0) (25.0)\n",
            "Requirement already satisfied: pyparsing>=2.3.1 in /usr/local/lib/python3.12/dist-packages (from matplotlib->vwsd==0.0.0) (3.2.5)\n",
            "Requirement already satisfied: python-dateutil>=2.7 in /usr/local/lib/python3.12/dist-packages (from matplotlib->vwsd==0.0.0) (2.9.0.post0)\n",
            "Requirement already satisfied: pytz>=2020.1 in /usr/local/lib/python3.12/dist-packages (from pandas->vwsd==0.0.0) (2025.2)\n",
            "Requirement already satisfied: tzdata>=2022.7 in /usr/local/lib/python3.12/dist-packages (from pandas->vwsd==0.0.0) (2025.2)\n",
            "Requirement already satisfied: numba>=0.54.1 in /usr/local/lib/python3.12/dist-packages (from ranx->vwsd==0.0.0) (0.60.0)\n",
            "Requirement already satisfied: tabulate in /usr/local/lib/python3.12/dist-packages (from ranx->vwsd==0.0.0) (0.9.0)\n",
            "Requirement already satisfied: tqdm in /usr/local/lib/python3.12/dist-packages (from ranx->vwsd==0.0.0) (4.67.1)\n",
            "Requirement already satisfied: scipy>=1.8.0 in /usr/local/lib/python3.12/dist-packages (from ranx->vwsd==0.0.0) (1.16.2)\n",
            "Requirement already satisfied: ir-datasets in /usr/local/lib/python3.12/dist-packages (from ranx->vwsd==0.0.0) (0.5.11)\n",
            "Requirement already satisfied: rich in /usr/local/lib/python3.12/dist-packages (from ranx->vwsd==0.0.0) (13.9.4)\n",
            "Requirement already satisfied: orjson in /usr/local/lib/python3.12/dist-packages (from ranx->vwsd==0.0.0) (3.11.3)\n",
            "Requirement already satisfied: lz4 in /usr/local/lib/python3.12/dist-packages (from ranx->vwsd==0.0.0) (4.4.4)\n",
            "Requirement already satisfied: cbor2 in /usr/local/lib/python3.12/dist-packages (from ranx->vwsd==0.0.0) (5.7.0)\n",
            "Requirement already satisfied: seaborn in /usr/local/lib/python3.12/dist-packages (from ranx->vwsd==0.0.0) (0.13.2)\n",
            "Requirement already satisfied: fastparquet in /usr/local/lib/python3.12/dist-packages (from ranx->vwsd==0.0.0) (2024.11.0)\n",
            "Requirement already satisfied: scikit-learn in /usr/local/lib/python3.12/dist-packages (from sentence-transformers->vwsd==0.0.0) (1.6.1)\n",
            "Requirement already satisfied: huggingface-hub>=0.20.0 in /usr/local/lib/python3.12/dist-packages (from sentence-transformers->vwsd==0.0.0) (0.35.3)\n",
            "Requirement already satisfied: typing_extensions>=4.5.0 in /usr/local/lib/python3.12/dist-packages (from sentence-transformers->vwsd==0.0.0) (4.15.0)\n",
            "Requirement already satisfied: filelock in /usr/local/lib/python3.12/dist-packages (from torch->vwsd==0.0.0) (3.20.0)\n",
            "Requirement already satisfied: setuptools in /usr/local/lib/python3.12/dist-packages (from torch->vwsd==0.0.0) (75.2.0)\n",
            "Requirement already satisfied: sympy>=1.13.3 in /usr/local/lib/python3.12/dist-packages (from torch->vwsd==0.0.0) (1.13.3)\n",
            "Requirement already satisfied: networkx in /usr/local/lib/python3.12/dist-packages (from torch->vwsd==0.0.0) (3.5)\n",
            "Requirement already satisfied: jinja2 in /usr/local/lib/python3.12/dist-packages (from torch->vwsd==0.0.0) (3.1.6)\n",
            "Requirement already satisfied: fsspec in /usr/local/lib/python3.12/dist-packages (from torch->vwsd==0.0.0) (2025.3.0)\n",
            "Requirement already satisfied: nvidia-cuda-nvrtc-cu12==12.6.77 in /usr/local/lib/python3.12/dist-packages (from torch->vwsd==0.0.0) (12.6.77)\n",
            "Requirement already satisfied: nvidia-cuda-runtime-cu12==12.6.77 in /usr/local/lib/python3.12/dist-packages (from torch->vwsd==0.0.0) (12.6.77)\n",
            "Requirement already satisfied: nvidia-cuda-cupti-cu12==12.6.80 in /usr/local/lib/python3.12/dist-packages (from torch->vwsd==0.0.0) (12.6.80)\n",
            "Requirement already satisfied: nvidia-cudnn-cu12==9.10.2.21 in /usr/local/lib/python3.12/dist-packages (from torch->vwsd==0.0.0) (9.10.2.21)\n",
            "Requirement already satisfied: nvidia-cublas-cu12==12.6.4.1 in /usr/local/lib/python3.12/dist-packages (from torch->vwsd==0.0.0) (12.6.4.1)\n",
            "Requirement already satisfied: nvidia-cufft-cu12==11.3.0.4 in /usr/local/lib/python3.12/dist-packages (from torch->vwsd==0.0.0) (11.3.0.4)\n",
            "Requirement already satisfied: nvidia-curand-cu12==10.3.7.77 in /usr/local/lib/python3.12/dist-packages (from torch->vwsd==0.0.0) (10.3.7.77)\n",
            "Requirement already satisfied: nvidia-cusolver-cu12==11.7.1.2 in /usr/local/lib/python3.12/dist-packages (from torch->vwsd==0.0.0) (11.7.1.2)\n",
            "Requirement already satisfied: nvidia-cusparse-cu12==12.5.4.2 in /usr/local/lib/python3.12/dist-packages (from torch->vwsd==0.0.0) (12.5.4.2)\n",
            "Requirement already satisfied: nvidia-cusparselt-cu12==0.7.1 in /usr/local/lib/python3.12/dist-packages (from torch->vwsd==0.0.0) (0.7.1)\n",
            "Requirement already satisfied: nvidia-nccl-cu12==2.27.3 in /usr/local/lib/python3.12/dist-packages (from torch->vwsd==0.0.0) (2.27.3)\n",
            "Requirement already satisfied: nvidia-nvtx-cu12==12.6.77 in /usr/local/lib/python3.12/dist-packages (from torch->vwsd==0.0.0) (12.6.77)\n",
            "Requirement already satisfied: nvidia-nvjitlink-cu12==12.6.85 in /usr/local/lib/python3.12/dist-packages (from torch->vwsd==0.0.0) (12.6.85)\n",
            "Requirement already satisfied: nvidia-cufile-cu12==1.11.1.6 in /usr/local/lib/python3.12/dist-packages (from torch->vwsd==0.0.0) (1.11.1.6)\n",
            "Requirement already satisfied: triton==3.4.0 in /usr/local/lib/python3.12/dist-packages (from torch->vwsd==0.0.0) (3.4.0)\n",
            "Requirement already satisfied: pyyaml>=5.1 in /usr/local/lib/python3.12/dist-packages (from transformers->vwsd==0.0.0) (6.0.3)\n",
            "Requirement already satisfied: regex!=2019.12.17 in /usr/local/lib/python3.12/dist-packages (from transformers->vwsd==0.0.0) (2024.11.6)\n",
            "Requirement already satisfied: requests in /usr/local/lib/python3.12/dist-packages (from transformers->vwsd==0.0.0) (2.32.4)\n",
            "Requirement already satisfied: tokenizers<=0.23.0,>=0.22.0 in /usr/local/lib/python3.12/dist-packages (from transformers->vwsd==0.0.0) (0.22.1)\n",
            "Requirement already satisfied: safetensors>=0.4.3 in /usr/local/lib/python3.12/dist-packages (from transformers->vwsd==0.0.0) (0.6.2)\n",
            "Requirement already satisfied: hf-xet<2.0.0,>=1.1.3 in /usr/local/lib/python3.12/dist-packages (from huggingface-hub>=0.20.0->sentence-transformers->vwsd==0.0.0) (1.1.10)\n",
            "Requirement already satisfied: llvmlite<0.44,>=0.43.0dev0 in /usr/local/lib/python3.12/dist-packages (from numba>=0.54.1->ranx->vwsd==0.0.0) (0.43.0)\n",
            "Requirement already satisfied: six>=1.5 in /usr/local/lib/python3.12/dist-packages (from python-dateutil>=2.7->matplotlib->vwsd==0.0.0) (1.17.0)\n",
            "Requirement already satisfied: mpmath<1.4,>=1.1.0 in /usr/local/lib/python3.12/dist-packages (from sympy>=1.13.3->torch->vwsd==0.0.0) (1.3.0)\n",
            "Requirement already satisfied: cramjam>=2.3 in /usr/local/lib/python3.12/dist-packages (from fastparquet->ranx->vwsd==0.0.0) (2.11.0)\n",
            "Requirement already satisfied: beautifulsoup4>=4.4.1 in /usr/local/lib/python3.12/dist-packages (from ir-datasets->ranx->vwsd==0.0.0) (4.13.5)\n",
            "Requirement already satisfied: inscriptis>=2.2.0 in /usr/local/lib/python3.12/dist-packages (from ir-datasets->ranx->vwsd==0.0.0) (2.6.0)\n",
            "Requirement already satisfied: lxml>=4.5.2 in /usr/local/lib/python3.12/dist-packages (from ir-datasets->ranx->vwsd==0.0.0) (5.4.0)\n",
            "Requirement already satisfied: trec-car-tools>=2.5.4 in /usr/local/lib/python3.12/dist-packages (from ir-datasets->ranx->vwsd==0.0.0) (2.6)\n",
            "Requirement already satisfied: warc3-wet>=0.2.3 in /usr/local/lib/python3.12/dist-packages (from ir-datasets->ranx->vwsd==0.0.0) (0.2.5)\n",
            "Requirement already satisfied: warc3-wet-clueweb09>=0.2.5 in /usr/local/lib/python3.12/dist-packages (from ir-datasets->ranx->vwsd==0.0.0) (0.2.5)\n",
            "Requirement already satisfied: zlib-state>=0.1.3 in /usr/local/lib/python3.12/dist-packages (from ir-datasets->ranx->vwsd==0.0.0) (0.1.10)\n",
            "Requirement already satisfied: ijson>=3.1.3 in /usr/local/lib/python3.12/dist-packages (from ir-datasets->ranx->vwsd==0.0.0) (3.4.0.post0)\n",
            "Requirement already satisfied: unlzw3>=0.2.1 in /usr/local/lib/python3.12/dist-packages (from ir-datasets->ranx->vwsd==0.0.0) (0.2.3)\n",
            "Requirement already satisfied: pyarrow>=16.1.0 in /usr/local/lib/python3.12/dist-packages (from ir-datasets->ranx->vwsd==0.0.0) (18.1.0)\n",
            "Requirement already satisfied: charset_normalizer<4,>=2 in /usr/local/lib/python3.12/dist-packages (from requests->transformers->vwsd==0.0.0) (3.4.4)\n",
            "Requirement already satisfied: idna<4,>=2.5 in /usr/local/lib/python3.12/dist-packages (from requests->transformers->vwsd==0.0.0) (3.11)\n",
            "Requirement already satisfied: urllib3<3,>=1.21.1 in /usr/local/lib/python3.12/dist-packages (from requests->transformers->vwsd==0.0.0) (2.5.0)\n",
            "Requirement already satisfied: certifi>=2017.4.17 in /usr/local/lib/python3.12/dist-packages (from requests->transformers->vwsd==0.0.0) (2025.10.5)\n",
            "Requirement already satisfied: MarkupSafe>=2.0 in /usr/local/lib/python3.12/dist-packages (from jinja2->torch->vwsd==0.0.0) (3.0.3)\n",
            "Requirement already satisfied: markdown-it-py>=2.2.0 in /usr/local/lib/python3.12/dist-packages (from rich->ranx->vwsd==0.0.0) (4.0.0)\n",
            "Requirement already satisfied: pygments<3.0.0,>=2.13.0 in /usr/local/lib/python3.12/dist-packages (from rich->ranx->vwsd==0.0.0) (2.19.2)\n",
            "Requirement already satisfied: joblib>=1.2.0 in /usr/local/lib/python3.12/dist-packages (from scikit-learn->sentence-transformers->vwsd==0.0.0) (1.5.2)\n",
            "Requirement already satisfied: threadpoolctl>=3.1.0 in /usr/local/lib/python3.12/dist-packages (from scikit-learn->sentence-transformers->vwsd==0.0.0) (3.6.0)\n",
            "Requirement already satisfied: soupsieve>1.2 in /usr/local/lib/python3.12/dist-packages (from beautifulsoup4>=4.4.1->ir-datasets->ranx->vwsd==0.0.0) (2.8)\n",
            "Requirement already satisfied: mdurl~=0.1 in /usr/local/lib/python3.12/dist-packages (from markdown-it-py>=2.2.0->rich->ranx->vwsd==0.0.0) (0.1.2)\n",
            "Requirement already satisfied: cbor>=1.0.0 in /usr/local/lib/python3.12/dist-packages (from trec-car-tools>=2.5.4->ir-datasets->ranx->vwsd==0.0.0) (1.0.0)\n",
            "Building wheels for collected packages: vwsd\n",
            "  Building wheel for vwsd (setup.py) ... \u001b[?25l\u001b[?25hdone\n",
            "  Created wheel for vwsd: filename=vwsd-0.0.0-py3-none-any.whl size=12008 sha256=aff1a1b16957b0eed9d517e472815f244bc0803869d6ce6b316f1fd60c4dbb32\n",
            "  Stored in directory: /tmp/pip-ephem-wheel-cache-3z9hy99_/wheels/c5/57/fd/2c2cf7eb3a4779154cd3b7c371f2e5f7443e15566d2b1c13b0\n",
            "Successfully built vwsd\n",
            "Installing collected packages: vwsd\n",
            "  Attempting uninstall: vwsd\n",
            "    Found existing installation: vwsd 0.0.0\n",
            "    Uninstalling vwsd-0.0.0:\n",
            "      Successfully uninstalled vwsd-0.0.0\n",
            "Successfully installed vwsd-0.0.0\n"
          ]
        }
      ],
      "source": [
        "!git clone https://github.com/asahi417/vwsd_experiment\n",
        "%cd vwsd_experiment\n",
        "!pip install ."
      ]
    },
    {
      "cell_type": "code",
      "source": [
        "# 英语数据集\n",
        "!vwsd-clip-baseline -l en --plot  -m laion/CLIP-ViT-L-14-laion2B-s32B-b82K\n",
        "\n",
        "# 法语数据集\n",
        "!vwsd-clip-baseline -l fa --plot\n",
        "\n",
        "# 意大利语数据集\n",
        "!vwsd-clip-baseline -l it --plot"
      ],
      "metadata": {
        "colab": {
          "base_uri": "https://localhost:8080/"
        },
        "id": "G_NuNI2hMxo8",
        "outputId": "6ddca057-aa27-4030-d8a1-a53470b8efea"
      },
      "execution_count": 1,
      "outputs": [
        {
          "output_type": "stream",
          "name": "stdout",
          "text": [
            "2025-10-22 23:05:22.321365: E external/local_xla/xla/stream_executor/cuda/cuda_fft.cc:467] Unable to register cuFFT factory: Attempting to register factory for plugin cuFFT when one has already been registered\n",
            "WARNING: All log messages before absl::InitializeLog() is called are written to STDERR\n",
            "E0000 00:00:1761174322.340919   18348 cuda_dnn.cc:8579] Unable to register cuDNN factory: Attempting to register factory for plugin cuDNN when one has already been registered\n",
            "E0000 00:00:1761174322.346696   18348 cuda_blas.cc:1407] Unable to register cuBLAS factory: Attempting to register factory for plugin cuBLAS when one has already been registered\n",
            "W0000 00:00:1761174322.361373   18348 computation_placer.cc:177] computation placer already registered. Please check linkage and avoid linking the same target more than once.\n",
            "W0000 00:00:1761174322.361399   18348 computation_placer.cc:177] computation placer already registered. Please check linkage and avoid linking the same target more than once.\n",
            "W0000 00:00:1761174322.361403   18348 computation_placer.cc:177] computation placer already registered. Please check linkage and avoid linking the same target more than once.\n",
            "W0000 00:00:1761174322.361406   18348 computation_placer.cc:177] computation placer already registered. Please check linkage and avoid linking the same target more than once.\n",
            "2025-10-22 23:05:22.365717: I tensorflow/core/platform/cpu_feature_guard.cc:210] This TensorFlow binary is optimized to use available CPU instructions in performance-critical operations.\n",
            "To enable the following instructions: AVX2 FMA, in other operations, rebuild TensorFlow with the appropriate compiler flags.\n",
            "Using a slow image processor as `use_fast` is unset and a slow processor was saved with this model. `use_fast=True` will be the default behavior in v4.52, even if the model was saved with a slow processor. This will result in minor differences in outputs. You'll still be able to use a slow processor with `use_fast=False`.\n",
            "/usr/local/lib/python3.12/dist-packages/vwsd/plot.py:27: RuntimeWarning: More than 20 figures have been opened. Figures created through the pyplot interface (`matplotlib.pyplot.figure`) are retained until explicitly closed and may consume too much memory. (To control this warning, see the rcParam `figure.max_open_warning`). Consider using `matplotlib.pyplot.close()`.\n",
            "  plt.figure(figsize=(22, 14))\n",
            "2025-10-22 23:18:21.631778: E external/local_xla/xla/stream_executor/cuda/cuda_fft.cc:467] Unable to register cuFFT factory: Attempting to register factory for plugin cuFFT when one has already been registered\n",
            "WARNING: All log messages before absl::InitializeLog() is called are written to STDERR\n",
            "E0000 00:00:1761175101.873409   21630 cuda_dnn.cc:8579] Unable to register cuDNN factory: Attempting to register factory for plugin cuDNN when one has already been registered\n",
            "E0000 00:00:1761175101.932068   21630 cuda_blas.cc:1407] Unable to register cuBLAS factory: Attempting to register factory for plugin cuBLAS when one has already been registered\n",
            "W0000 00:00:1761175102.461216   21630 computation_placer.cc:177] computation placer already registered. Please check linkage and avoid linking the same target more than once.\n",
            "W0000 00:00:1761175102.461257   21630 computation_placer.cc:177] computation placer already registered. Please check linkage and avoid linking the same target more than once.\n",
            "W0000 00:00:1761175102.461262   21630 computation_placer.cc:177] computation placer already registered. Please check linkage and avoid linking the same target more than once.\n",
            "W0000 00:00:1761175102.461265   21630 computation_placer.cc:177] computation placer already registered. Please check linkage and avoid linking the same target more than once.\n",
            "2025-10-22 23:18:22.515130: I tensorflow/core/platform/cpu_feature_guard.cc:210] This TensorFlow binary is optimized to use available CPU instructions in performance-critical operations.\n",
            "To enable the following instructions: AVX2 FMA, in other operations, rebuild TensorFlow with the appropriate compiler flags.\n",
            "Using a slow image processor as `use_fast` is unset and a slow processor was saved with this model. `use_fast=True` will be the default behavior in v4.52, even if the model was saved with a slow processor. This will result in minor differences in outputs. You'll still be able to use a slow processor with `use_fast=False`.\n",
            "/usr/local/lib/python3.12/dist-packages/vwsd/plot.py:27: RuntimeWarning: More than 20 figures have been opened. Figures created through the pyplot interface (`matplotlib.pyplot.figure`) are retained until explicitly closed and may consume too much memory. (To control this warning, see the rcParam `figure.max_open_warning`). Consider using `matplotlib.pyplot.close()`.\n",
            "  plt.figure(figsize=(22, 14))\n",
            "2025-10-22 23:22:25.351784: E external/local_xla/xla/stream_executor/cuda/cuda_fft.cc:467] Unable to register cuFFT factory: Attempting to register factory for plugin cuFFT when one has already been registered\n",
            "WARNING: All log messages before absl::InitializeLog() is called are written to STDERR\n",
            "E0000 00:00:1761175345.371532   22715 cuda_dnn.cc:8579] Unable to register cuDNN factory: Attempting to register factory for plugin cuDNN when one has already been registered\n",
            "E0000 00:00:1761175345.377418   22715 cuda_blas.cc:1407] Unable to register cuBLAS factory: Attempting to register factory for plugin cuBLAS when one has already been registered\n",
            "W0000 00:00:1761175345.392628   22715 computation_placer.cc:177] computation placer already registered. Please check linkage and avoid linking the same target more than once.\n",
            "W0000 00:00:1761175345.392654   22715 computation_placer.cc:177] computation placer already registered. Please check linkage and avoid linking the same target more than once.\n",
            "W0000 00:00:1761175345.392658   22715 computation_placer.cc:177] computation placer already registered. Please check linkage and avoid linking the same target more than once.\n",
            "W0000 00:00:1761175345.392663   22715 computation_placer.cc:177] computation placer already registered. Please check linkage and avoid linking the same target more than once.\n",
            "2025-10-22 23:22:25.397496: I tensorflow/core/platform/cpu_feature_guard.cc:210] This TensorFlow binary is optimized to use available CPU instructions in performance-critical operations.\n",
            "To enable the following instructions: AVX2 FMA, in other operations, rebuild TensorFlow with the appropriate compiler flags.\n",
            "Using a slow image processor as `use_fast` is unset and a slow processor was saved with this model. `use_fast=True` will be the default behavior in v4.52, even if the model was saved with a slow processor. This will result in minor differences in outputs. You'll still be able to use a slow processor with `use_fast=False`.\n",
            "/usr/local/lib/python3.12/dist-packages/vwsd/plot.py:27: RuntimeWarning: More than 20 figures have been opened. Figures created through the pyplot interface (`matplotlib.pyplot.figure`) are retained until explicitly closed and may consume too much memory. (To control this warning, see the rcParam `figure.max_open_warning`). Consider using `matplotlib.pyplot.close()`.\n",
            "  plt.figure(figsize=(22, 14))\n"
          ]
        }
      ]
    },
    {
      "cell_type": "code",
      "source": [
        "!find / -name \"gold.txt\""
      ],
      "metadata": {
        "colab": {
          "base_uri": "https://localhost:8080/"
        },
        "id": "CMFM9AFqX72M",
        "outputId": "4635352a-cd15-4525-aa6b-95093dd1802e"
      },
      "execution_count": 15,
      "outputs": [
        {
          "output_type": "stream",
          "name": "stdout",
          "text": [
            "find: ‘/proc/61/task/61/net’: Invalid argument\n",
            "find: ‘/proc/61/net’: Invalid argument\n"
          ]
        }
      ]
    },
    {
      "cell_type": "code",
      "metadata": {
        "colab": {
          "base_uri": "https://localhost:8080/"
        },
        "id": "266962d6",
        "outputId": "76b255ff-c3a7-47ff-9724-74b64738a92e"
      },
      "source": [
        "!unzip test.data.v1.1.gold.zip"
      ],
      "execution_count": 16,
      "outputs": [
        {
          "output_type": "stream",
          "name": "stdout",
          "text": [
            "Archive:  test.data.v1.1.gold.zip\n",
            "replace en.test.data.v1.1.txt? [y]es, [n]o, [A]ll, [N]one, [r]ename: "
          ]
        }
      ]
    },
    {
      "cell_type": "code",
      "source": [
        "# 1. 英文 (en) 文件：图像名 + \"en\"\n",
        "!awk '{print $0 \"\\t\" \"en\"}' en.test.gold.v1.1.txt > en.gold.tmp\n",
        "\n",
        "# 2. 波斯语 (fa) 文件：图像名 + \"fa\"\n",
        "!!awk '{print $0 \"\\t\" \"fa\"}' fa.test.gold.txt > fa.gold.tmp\n",
        "\n",
        "# 3. 意大利语 (it) 文件：图像名 + \"it\"\n",
        "!awk '{print $0 \"\\t\" \"it\"}' it.test.gold.v1.1.txt > it.gold.tmp\n",
        "\n",
        "!cat en.gold.tmp fa.gold.tmp it.gold.tmp > all.gold.tmp"
      ],
      "metadata": {
        "id": "gHuKtMGZdSM2"
      },
      "execution_count": 17,
      "outputs": []
    },
    {
      "cell_type": "markdown",
      "source": [],
      "metadata": {
        "id": "qXW62awVSDtj"
      }
    },
    {
      "cell_type": "code",
      "source": [
        "!ls\n",
        "%cd vwsd_experiment"
      ],
      "metadata": {
        "colab": {
          "base_uri": "https://localhost:8080/"
        },
        "id": "TWI8zdyxRg1c",
        "outputId": "d0c4644c-7d1e-43fe-f26d-f2a8245bf853"
      },
      "execution_count": 4,
      "outputs": [
        {
          "output_type": "stream",
          "name": "stdout",
          "text": [
            "dataset  result  sample_data  vwsd_experiment\n",
            "/content/vwsd_experiment\n"
          ]
        }
      ]
    },
    {
      "cell_type": "code",
      "source": [
        "# Use the new temporary gold file:\n",
        "!vwsd-ranking-metric -p result/Example_of_an_image_caption_that_explains_mask..target_phrase -r all.gold.tmp\n",
        "!vwsd-ranking-metric -p result/Example_of_an_image_caption_that_explains_mask..target_word -r all.gold.tmp\n",
        "!vwsd-ranking-metric -p result/mask.target_phrase -r all.gold.tmp\n",
        "!vwsd-ranking-metric -p result/mask.target_word -r all.gold.tmp\n",
        "!vwsd-ranking-metric -p result/This_is_mask..target_phrase -r all.gold.tmp\n",
        "!vwsd-ranking-metric -p result/This_is_mask..target_word -r all.gold.tmp"
      ],
      "metadata": {
        "colab": {
          "base_uri": "https://localhost:8080/"
        },
        "id": "teZrbEccdXxO",
        "outputId": "3632ea99-3d74-4f94-81ce-4dee8d63bb85"
      },
      "execution_count": 5,
      "outputs": [
        {
          "output_type": "stream",
          "name": "stdout",
          "text": [
            "2025-10-22 23:36:22.282041: E external/local_xla/xla/stream_executor/cuda/cuda_fft.cc:467] Unable to register cuFFT factory: Attempting to register factory for plugin cuFFT when one has already been registered\n",
            "WARNING: All log messages before absl::InitializeLog() is called are written to STDERR\n",
            "E0000 00:00:1761176182.315432   26338 cuda_dnn.cc:8579] Unable to register cuDNN factory: Attempting to register factory for plugin cuDNN when one has already been registered\n",
            "E0000 00:00:1761176182.325134   26338 cuda_blas.cc:1407] Unable to register cuBLAS factory: Attempting to register factory for plugin cuBLAS when one has already been registered\n",
            "W0000 00:00:1761176182.349409   26338 computation_placer.cc:177] computation placer already registered. Please check linkage and avoid linking the same target more than once.\n",
            "W0000 00:00:1761176182.349440   26338 computation_placer.cc:177] computation placer already registered. Please check linkage and avoid linking the same target more than once.\n",
            "W0000 00:00:1761176182.349449   26338 computation_placer.cc:177] computation placer already registered. Please check linkage and avoid linking the same target more than once.\n",
            "W0000 00:00:1761176182.349456   26338 computation_placer.cc:177] computation placer already registered. Please check linkage and avoid linking the same target more than once.\n",
            "2025-10-22 23:36:22.356248: I tensorflow/core/platform/cpu_feature_guard.cc:210] This TensorFlow binary is optimized to use available CPU instructions in performance-critical operations.\n",
            "To enable the following instructions: AVX2 FMA, in other operations, rebuild TensorFlow with the appropriate compiler flags.\n",
            "| model                                                                |   mrr_official/en |   hit_official/en |   hit_rate@1/en |   map@5/en |   mrr@5/en |   ndcg@5/en |   map@10/en |   mrr@10/en |   ndcg@10/en |   mrr_official/fa |   hit_official/fa |   hit_rate@1/fa |   map@5/fa |   mrr@5/fa |   ndcg@5/fa |   map@10/fa |   mrr@10/fa |   ndcg@10/fa |   mrr_official/it |   hit_official/it |   hit_rate@1/it |   map@5/it |   mrr@5/it |   ndcg@5/it |   map@10/it |   mrr@10/it |   ndcg@10/it |   mrr_official/avg |   hit_official/avg |   hit_rate@1/avg |   map@5/avg |   mrr@5/avg |   ndcg@5/avg |   map@10/avg |   mrr@10/avg |   ndcg@10/avg |\n",
            "|:---------------------------------------------------------------------|------------------:|------------------:|----------------:|-----------:|-----------:|------------:|------------:|------------:|-------------:|------------------:|------------------:|----------------:|-----------:|-----------:|------------:|------------:|------------:|-------------:|------------------:|------------------:|----------------:|-----------:|-----------:|------------:|------------:|------------:|-------------:|-------------------:|-------------------:|-----------------:|------------:|------------:|-------------:|-------------:|-------------:|--------------:|\n",
            "| result/Example_of_an_image_caption_that_explains_mask..target_phrase |          0.757077 |           0.61987 |         0.61987 |   0.750864 |   0.750864 |    0.801592 |    0.757077 |    0.757077 |     0.816839 |           0.38905 |             0.185 |           0.185 |   0.342583 |   0.342583 |    0.419426 |     0.38905 |     0.38905 |     0.531431 |           0.37596 |          0.190164 |        0.190164 |   0.320492 |   0.320492 |    0.382175 |     0.37596 |     0.37596 |     0.519219 |           0.507362 |           0.331678 |         0.331678 |    0.471313 |    0.471313 |     0.534398 |     0.507362 |     0.507362 |      0.622496 |\n",
            "2025-10-22 23:36:39.798155: E external/local_xla/xla/stream_executor/cuda/cuda_fft.cc:467] Unable to register cuFFT factory: Attempting to register factory for plugin cuFFT when one has already been registered\n",
            "WARNING: All log messages before absl::InitializeLog() is called are written to STDERR\n",
            "E0000 00:00:1761176199.817678   26423 cuda_dnn.cc:8579] Unable to register cuDNN factory: Attempting to register factory for plugin cuDNN when one has already been registered\n",
            "E0000 00:00:1761176199.823484   26423 cuda_blas.cc:1407] Unable to register cuBLAS factory: Attempting to register factory for plugin cuBLAS when one has already been registered\n",
            "W0000 00:00:1761176199.838036   26423 computation_placer.cc:177] computation placer already registered. Please check linkage and avoid linking the same target more than once.\n",
            "W0000 00:00:1761176199.838066   26423 computation_placer.cc:177] computation placer already registered. Please check linkage and avoid linking the same target more than once.\n",
            "W0000 00:00:1761176199.838070   26423 computation_placer.cc:177] computation placer already registered. Please check linkage and avoid linking the same target more than once.\n",
            "W0000 00:00:1761176199.838075   26423 computation_placer.cc:177] computation placer already registered. Please check linkage and avoid linking the same target more than once.\n",
            "2025-10-22 23:36:39.842575: I tensorflow/core/platform/cpu_feature_guard.cc:210] This TensorFlow binary is optimized to use available CPU instructions in performance-critical operations.\n",
            "To enable the following instructions: AVX2 FMA, in other operations, rebuild TensorFlow with the appropriate compiler flags.\n",
            "| model                                                                |   mrr_official/en |   hit_official/en |   hit_rate@1/en |   map@5/en |   mrr@5/en |   ndcg@5/en |   map@10/en |   mrr@10/en |   ndcg@10/en |   mrr_official/fa |   hit_official/fa |   hit_rate@1/fa |   map@5/fa |   mrr@5/fa |   ndcg@5/fa |   map@10/fa |   mrr@10/fa |   ndcg@10/fa |   mrr_official/it |   hit_official/it |   hit_rate@1/it |   map@5/it |   mrr@5/it |   ndcg@5/it |   map@10/it |   mrr@10/it |   ndcg@10/it |   mrr_official/avg |   hit_official/avg |   hit_rate@1/avg |   map@5/avg |   mrr@5/avg |   ndcg@5/avg |   map@10/avg |   mrr@10/avg |   ndcg@10/avg |\n",
            "|:---------------------------------------------------------------------|------------------:|------------------:|----------------:|-----------:|-----------:|------------:|------------:|------------:|-------------:|------------------:|------------------:|----------------:|-----------:|-----------:|------------:|------------:|------------:|-------------:|------------------:|------------------:|----------------:|-----------:|-----------:|------------:|------------:|------------:|-------------:|-------------------:|-------------------:|-----------------:|------------:|------------:|-------------:|-------------:|-------------:|--------------:|\n",
            "| result/Example_of_an_image_caption_that_explains_mask..target_phrase |          0.757077 |          0.61987  |        0.61987  |   0.750864 |   0.750864 |    0.801592 |    0.757077 |    0.757077 |     0.816839 |          0.38905  |             0.185 |           0.185 |   0.342583 |   0.342583 |    0.419426 |    0.38905  |    0.38905  |     0.531431 |          0.37596  |          0.190164 |        0.190164 |   0.320492 |   0.320492 |    0.382175 |    0.37596  |    0.37596  |     0.519219 |           0.507362 |           0.331678 |         0.331678 |    0.471313 |    0.471313 |     0.534398 |     0.507362 |     0.507362 |      0.622496 |\n",
            "| result/Example_of_an_image_caption_that_explains_mask..target_word   |          0.544726 |          0.347732 |        0.347732 |   0.520266 |   0.520266 |    0.59497  |    0.544726 |    0.544726 |     0.653483 |          0.363502 |             0.165 |           0.165 |   0.314083 |   0.314083 |    0.389235 |    0.363502 |    0.363502 |     0.510824 |          0.305109 |          0.134426 |        0.134426 |   0.236448 |   0.236448 |    0.289363 |    0.305109 |    0.305109 |     0.461987 |           0.404446 |           0.215719 |         0.215719 |    0.356933 |    0.356933 |     0.424523 |     0.404446 |     0.404446 |      0.542098 |\n",
            "2025-10-22 23:36:56.830841: E external/local_xla/xla/stream_executor/cuda/cuda_fft.cc:467] Unable to register cuFFT factory: Attempting to register factory for plugin cuFFT when one has already been registered\n",
            "WARNING: All log messages before absl::InitializeLog() is called are written to STDERR\n",
            "E0000 00:00:1761176216.850282   26506 cuda_dnn.cc:8579] Unable to register cuDNN factory: Attempting to register factory for plugin cuDNN when one has already been registered\n",
            "E0000 00:00:1761176216.856273   26506 cuda_blas.cc:1407] Unable to register cuBLAS factory: Attempting to register factory for plugin cuBLAS when one has already been registered\n",
            "W0000 00:00:1761176216.871246   26506 computation_placer.cc:177] computation placer already registered. Please check linkage and avoid linking the same target more than once.\n",
            "W0000 00:00:1761176216.871270   26506 computation_placer.cc:177] computation placer already registered. Please check linkage and avoid linking the same target more than once.\n",
            "W0000 00:00:1761176216.871274   26506 computation_placer.cc:177] computation placer already registered. Please check linkage and avoid linking the same target more than once.\n",
            "W0000 00:00:1761176216.871278   26506 computation_placer.cc:177] computation placer already registered. Please check linkage and avoid linking the same target more than once.\n",
            "2025-10-22 23:36:56.875930: I tensorflow/core/platform/cpu_feature_guard.cc:210] This TensorFlow binary is optimized to use available CPU instructions in performance-critical operations.\n",
            "To enable the following instructions: AVX2 FMA, in other operations, rebuild TensorFlow with the appropriate compiler flags.\n",
            "| model                                                                |   mrr_official/en |   hit_official/en |   hit_rate@1/en |   map@5/en |   mrr@5/en |   ndcg@5/en |   map@10/en |   mrr@10/en |   ndcg@10/en |   mrr_official/fa |   hit_official/fa |   hit_rate@1/fa |   map@5/fa |   mrr@5/fa |   ndcg@5/fa |   map@10/fa |   mrr@10/fa |   ndcg@10/fa |   mrr_official/it |   hit_official/it |   hit_rate@1/it |   map@5/it |   mrr@5/it |   ndcg@5/it |   map@10/it |   mrr@10/it |   ndcg@10/it |   mrr_official/avg |   hit_official/avg |   hit_rate@1/avg |   map@5/avg |   mrr@5/avg |   ndcg@5/avg |   map@10/avg |   mrr@10/avg |   ndcg@10/avg |\n",
            "|:---------------------------------------------------------------------|------------------:|------------------:|----------------:|-----------:|-----------:|------------:|------------:|------------:|-------------:|------------------:|------------------:|----------------:|-----------:|-----------:|------------:|------------:|------------:|-------------:|------------------:|------------------:|----------------:|-----------:|-----------:|------------:|------------:|------------:|-------------:|-------------------:|-------------------:|-----------------:|------------:|------------:|-------------:|-------------:|-------------:|--------------:|\n",
            "| result/Example_of_an_image_caption_that_explains_mask..target_phrase |          0.757077 |          0.61987  |        0.61987  |   0.750864 |   0.750864 |    0.801592 |    0.757077 |    0.757077 |     0.816839 |          0.38905  |             0.185 |           0.185 |   0.342583 |   0.342583 |    0.419426 |    0.38905  |    0.38905  |     0.531431 |          0.37596  |          0.190164 |        0.190164 |   0.320492 |   0.320492 |    0.382175 |    0.37596  |    0.37596  |     0.519219 |           0.507362 |           0.331678 |         0.331678 |    0.471313 |    0.471313 |     0.534398 |     0.507362 |     0.507362 |      0.622496 |\n",
            "| result/Example_of_an_image_caption_that_explains_mask..target_word   |          0.544726 |          0.347732 |        0.347732 |   0.520266 |   0.520266 |    0.59497  |    0.544726 |    0.544726 |     0.653483 |          0.363502 |             0.165 |           0.165 |   0.314083 |   0.314083 |    0.389235 |    0.363502 |    0.363502 |     0.510824 |          0.305109 |          0.134426 |        0.134426 |   0.236448 |   0.236448 |    0.289363 |    0.305109 |    0.305109 |     0.461987 |           0.404446 |           0.215719 |         0.215719 |    0.356933 |    0.356933 |     0.424523 |     0.404446 |     0.404446 |      0.542098 |\n",
            "| result/mask.target_phrase                                            |          0.777109 |          0.656587 |        0.656587 |   0.769762 |   0.769762 |    0.814049 |    0.777109 |    0.777109 |     0.831661 |          0.466974 |             0.285 |           0.285 |   0.431917 |   0.431917 |    0.505394 |    0.466974 |    0.466974 |     0.591721 |          0.426063 |          0.22623  |        0.22623  |   0.384809 |   0.384809 |    0.457448 |    0.426063 |    0.426063 |     0.559699 |           0.556715 |           0.389272 |         0.389272 |    0.528829 |    0.528829 |     0.592297 |     0.556715 |     0.556715 |      0.661027 |\n",
            "2025-10-22 23:37:14.423711: E external/local_xla/xla/stream_executor/cuda/cuda_fft.cc:467] Unable to register cuFFT factory: Attempting to register factory for plugin cuFFT when one has already been registered\n",
            "WARNING: All log messages before absl::InitializeLog() is called are written to STDERR\n",
            "E0000 00:00:1761176234.444450   26589 cuda_dnn.cc:8579] Unable to register cuDNN factory: Attempting to register factory for plugin cuDNN when one has already been registered\n",
            "E0000 00:00:1761176234.450442   26589 cuda_blas.cc:1407] Unable to register cuBLAS factory: Attempting to register factory for plugin cuBLAS when one has already been registered\n",
            "W0000 00:00:1761176234.465426   26589 computation_placer.cc:177] computation placer already registered. Please check linkage and avoid linking the same target more than once.\n",
            "W0000 00:00:1761176234.465454   26589 computation_placer.cc:177] computation placer already registered. Please check linkage and avoid linking the same target more than once.\n",
            "W0000 00:00:1761176234.465458   26589 computation_placer.cc:177] computation placer already registered. Please check linkage and avoid linking the same target more than once.\n",
            "W0000 00:00:1761176234.465461   26589 computation_placer.cc:177] computation placer already registered. Please check linkage and avoid linking the same target more than once.\n",
            "2025-10-22 23:37:14.469931: I tensorflow/core/platform/cpu_feature_guard.cc:210] This TensorFlow binary is optimized to use available CPU instructions in performance-critical operations.\n",
            "To enable the following instructions: AVX2 FMA, in other operations, rebuild TensorFlow with the appropriate compiler flags.\n",
            "| model                                                                |   mrr_official/en |   hit_official/en |   hit_rate@1/en |   map@5/en |   mrr@5/en |   ndcg@5/en |   map@10/en |   mrr@10/en |   ndcg@10/en |   mrr_official/fa |   hit_official/fa |   hit_rate@1/fa |   map@5/fa |   mrr@5/fa |   ndcg@5/fa |   map@10/fa |   mrr@10/fa |   ndcg@10/fa |   mrr_official/it |   hit_official/it |   hit_rate@1/it |   map@5/it |   mrr@5/it |   ndcg@5/it |   map@10/it |   mrr@10/it |   ndcg@10/it |   mrr_official/avg |   hit_official/avg |   hit_rate@1/avg |   map@5/avg |   mrr@5/avg |   ndcg@5/avg |   map@10/avg |   mrr@10/avg |   ndcg@10/avg |\n",
            "|:---------------------------------------------------------------------|------------------:|------------------:|----------------:|-----------:|-----------:|------------:|------------:|------------:|-------------:|------------------:|------------------:|----------------:|-----------:|-----------:|------------:|------------:|------------:|-------------:|------------------:|------------------:|----------------:|-----------:|-----------:|------------:|------------:|------------:|-------------:|-------------------:|-------------------:|-----------------:|------------:|------------:|-------------:|-------------:|-------------:|--------------:|\n",
            "| result/Example_of_an_image_caption_that_explains_mask..target_phrase |          0.757077 |          0.61987  |        0.61987  |   0.750864 |   0.750864 |    0.801592 |    0.757077 |    0.757077 |     0.816839 |          0.38905  |             0.185 |           0.185 |   0.342583 |   0.342583 |    0.419426 |    0.38905  |    0.38905  |     0.531431 |          0.37596  |          0.190164 |        0.190164 |   0.320492 |   0.320492 |    0.382175 |    0.37596  |    0.37596  |     0.519219 |           0.507362 |           0.331678 |         0.331678 |    0.471313 |    0.471313 |     0.534398 |     0.507362 |     0.507362 |      0.622496 |\n",
            "| result/Example_of_an_image_caption_that_explains_mask..target_word   |          0.544726 |          0.347732 |        0.347732 |   0.520266 |   0.520266 |    0.59497  |    0.544726 |    0.544726 |     0.653483 |          0.363502 |             0.165 |           0.165 |   0.314083 |   0.314083 |    0.389235 |    0.363502 |    0.363502 |     0.510824 |          0.305109 |          0.134426 |        0.134426 |   0.236448 |   0.236448 |    0.289363 |    0.305109 |    0.305109 |     0.461987 |           0.404446 |           0.215719 |         0.215719 |    0.356933 |    0.356933 |     0.424523 |     0.404446 |     0.404446 |      0.542098 |\n",
            "| result/mask.target_phrase                                            |          0.777109 |          0.656587 |        0.656587 |   0.769762 |   0.769762 |    0.814049 |    0.777109 |    0.777109 |     0.831661 |          0.466974 |             0.285 |           0.285 |   0.431917 |   0.431917 |    0.505394 |    0.466974 |    0.466974 |     0.591721 |          0.426063 |          0.22623  |        0.22623  |   0.384809 |   0.384809 |    0.457448 |    0.426063 |    0.426063 |     0.559699 |           0.556715 |           0.389272 |         0.389272 |    0.528829 |    0.528829 |     0.592297 |     0.556715 |     0.556715 |      0.661027 |\n",
            "| result/mask.target_word                                              |          0.544317 |          0.352052 |        0.352052 |   0.517171 |   0.517171 |    0.5884   |    0.544317 |    0.544317 |     0.652871 |          0.389635 |             0.205 |           0.205 |   0.345833 |   0.345833 |    0.421285 |    0.389635 |    0.389635 |     0.530641 |          0.292006 |          0.114754 |        0.114754 |   0.22541  |   0.22541  |    0.281829 |    0.292006 |    0.292006 |     0.451744 |           0.408653 |           0.223935 |         0.223935 |    0.362805 |    0.362805 |     0.430505 |     0.408653 |     0.408653 |      0.545086 |\n",
            "2025-10-22 23:37:31.157934: E external/local_xla/xla/stream_executor/cuda/cuda_fft.cc:467] Unable to register cuFFT factory: Attempting to register factory for plugin cuFFT when one has already been registered\n",
            "WARNING: All log messages before absl::InitializeLog() is called are written to STDERR\n",
            "E0000 00:00:1761176251.177691   26678 cuda_dnn.cc:8579] Unable to register cuDNN factory: Attempting to register factory for plugin cuDNN when one has already been registered\n",
            "E0000 00:00:1761176251.183603   26678 cuda_blas.cc:1407] Unable to register cuBLAS factory: Attempting to register factory for plugin cuBLAS when one has already been registered\n",
            "W0000 00:00:1761176251.198671   26678 computation_placer.cc:177] computation placer already registered. Please check linkage and avoid linking the same target more than once.\n",
            "W0000 00:00:1761176251.198697   26678 computation_placer.cc:177] computation placer already registered. Please check linkage and avoid linking the same target more than once.\n",
            "W0000 00:00:1761176251.198702   26678 computation_placer.cc:177] computation placer already registered. Please check linkage and avoid linking the same target more than once.\n",
            "W0000 00:00:1761176251.198705   26678 computation_placer.cc:177] computation placer already registered. Please check linkage and avoid linking the same target more than once.\n",
            "2025-10-22 23:37:31.203269: I tensorflow/core/platform/cpu_feature_guard.cc:210] This TensorFlow binary is optimized to use available CPU instructions in performance-critical operations.\n",
            "To enable the following instructions: AVX2 FMA, in other operations, rebuild TensorFlow with the appropriate compiler flags.\n",
            "| model                                                                |   mrr_official/en |   hit_official/en |   hit_rate@1/en |   map@5/en |   mrr@5/en |   ndcg@5/en |   map@10/en |   mrr@10/en |   ndcg@10/en |   mrr_official/fa |   hit_official/fa |   hit_rate@1/fa |   map@5/fa |   mrr@5/fa |   ndcg@5/fa |   map@10/fa |   mrr@10/fa |   ndcg@10/fa |   mrr_official/it |   hit_official/it |   hit_rate@1/it |   map@5/it |   mrr@5/it |   ndcg@5/it |   map@10/it |   mrr@10/it |   ndcg@10/it |   mrr_official/avg |   hit_official/avg |   hit_rate@1/avg |   map@5/avg |   mrr@5/avg |   ndcg@5/avg |   map@10/avg |   mrr@10/avg |   ndcg@10/avg |\n",
            "|:---------------------------------------------------------------------|------------------:|------------------:|----------------:|-----------:|-----------:|------------:|------------:|------------:|-------------:|------------------:|------------------:|----------------:|-----------:|-----------:|------------:|------------:|------------:|-------------:|------------------:|------------------:|----------------:|-----------:|-----------:|------------:|------------:|------------:|-------------:|-------------------:|-------------------:|-----------------:|------------:|------------:|-------------:|-------------:|-------------:|--------------:|\n",
            "| result/Example_of_an_image_caption_that_explains_mask..target_phrase |          0.757077 |          0.61987  |        0.61987  |   0.750864 |   0.750864 |    0.801592 |    0.757077 |    0.757077 |     0.816839 |          0.38905  |             0.185 |           0.185 |   0.342583 |   0.342583 |    0.419426 |    0.38905  |    0.38905  |     0.531431 |          0.37596  |          0.190164 |        0.190164 |   0.320492 |   0.320492 |    0.382175 |    0.37596  |    0.37596  |     0.519219 |           0.507362 |           0.331678 |         0.331678 |    0.471313 |    0.471313 |     0.534398 |     0.507362 |     0.507362 |      0.622496 |\n",
            "| result/Example_of_an_image_caption_that_explains_mask..target_word   |          0.544726 |          0.347732 |        0.347732 |   0.520266 |   0.520266 |    0.59497  |    0.544726 |    0.544726 |     0.653483 |          0.363502 |             0.165 |           0.165 |   0.314083 |   0.314083 |    0.389235 |    0.363502 |    0.363502 |     0.510824 |          0.305109 |          0.134426 |        0.134426 |   0.236448 |   0.236448 |    0.289363 |    0.305109 |    0.305109 |     0.461987 |           0.404446 |           0.215719 |         0.215719 |    0.356933 |    0.356933 |     0.424523 |     0.404446 |     0.404446 |      0.542098 |\n",
            "| result/mask.target_phrase                                            |          0.777109 |          0.656587 |        0.656587 |   0.769762 |   0.769762 |    0.814049 |    0.777109 |    0.777109 |     0.831661 |          0.466974 |             0.285 |           0.285 |   0.431917 |   0.431917 |    0.505394 |    0.466974 |    0.466974 |     0.591721 |          0.426063 |          0.22623  |        0.22623  |   0.384809 |   0.384809 |    0.457448 |    0.426063 |    0.426063 |     0.559699 |           0.556715 |           0.389272 |         0.389272 |    0.528829 |    0.528829 |     0.592297 |     0.556715 |     0.556715 |      0.661027 |\n",
            "| result/mask.target_word                                              |          0.544317 |          0.352052 |        0.352052 |   0.517171 |   0.517171 |    0.5884   |    0.544317 |    0.544317 |     0.652871 |          0.389635 |             0.205 |           0.205 |   0.345833 |   0.345833 |    0.421285 |    0.389635 |    0.389635 |     0.530641 |          0.292006 |          0.114754 |        0.114754 |   0.22541  |   0.22541  |    0.281829 |    0.292006 |    0.292006 |     0.451744 |           0.408653 |           0.223935 |         0.223935 |    0.362805 |    0.362805 |     0.430505 |     0.408653 |     0.408653 |      0.545086 |\n",
            "| result/This_is_mask..target_phrase                                   |          0.770917 |          0.650108 |        0.650108 |   0.762275 |   0.762275 |    0.806246 |    0.770917 |    0.770917 |     0.826784 |          0.431677 |             0.23  |           0.23  |   0.39675  |   0.39675  |    0.478827 |    0.431677 |    0.431677 |     0.565028 |          0.44585  |          0.236066 |        0.236066 |   0.40694  |   0.40694  |    0.481727 |    0.44585  |    0.44585  |     0.576038 |           0.549481 |           0.372058 |         0.372058 |    0.521988 |    0.521988 |     0.588933 |     0.549481 |     0.549481 |      0.65595  |\n",
            "2025-10-22 23:37:48.133945: E external/local_xla/xla/stream_executor/cuda/cuda_fft.cc:467] Unable to register cuFFT factory: Attempting to register factory for plugin cuFFT when one has already been registered\n",
            "WARNING: All log messages before absl::InitializeLog() is called are written to STDERR\n",
            "E0000 00:00:1761176268.165578   26757 cuda_dnn.cc:8579] Unable to register cuDNN factory: Attempting to register factory for plugin cuDNN when one has already been registered\n",
            "E0000 00:00:1761176268.175302   26757 cuda_blas.cc:1407] Unable to register cuBLAS factory: Attempting to register factory for plugin cuBLAS when one has already been registered\n",
            "W0000 00:00:1761176268.198531   26757 computation_placer.cc:177] computation placer already registered. Please check linkage and avoid linking the same target more than once.\n",
            "W0000 00:00:1761176268.198566   26757 computation_placer.cc:177] computation placer already registered. Please check linkage and avoid linking the same target more than once.\n",
            "W0000 00:00:1761176268.198574   26757 computation_placer.cc:177] computation placer already registered. Please check linkage and avoid linking the same target more than once.\n",
            "W0000 00:00:1761176268.198581   26757 computation_placer.cc:177] computation placer already registered. Please check linkage and avoid linking the same target more than once.\n",
            "2025-10-22 23:37:48.205391: I tensorflow/core/platform/cpu_feature_guard.cc:210] This TensorFlow binary is optimized to use available CPU instructions in performance-critical operations.\n",
            "To enable the following instructions: AVX2 FMA, in other operations, rebuild TensorFlow with the appropriate compiler flags.\n",
            "| model                                                                |   mrr_official/en |   hit_official/en |   hit_rate@1/en |   map@5/en |   mrr@5/en |   ndcg@5/en |   map@10/en |   mrr@10/en |   ndcg@10/en |   mrr_official/fa |   hit_official/fa |   hit_rate@1/fa |   map@5/fa |   mrr@5/fa |   ndcg@5/fa |   map@10/fa |   mrr@10/fa |   ndcg@10/fa |   mrr_official/it |   hit_official/it |   hit_rate@1/it |   map@5/it |   mrr@5/it |   ndcg@5/it |   map@10/it |   mrr@10/it |   ndcg@10/it |   mrr_official/avg |   hit_official/avg |   hit_rate@1/avg |   map@5/avg |   mrr@5/avg |   ndcg@5/avg |   map@10/avg |   mrr@10/avg |   ndcg@10/avg |\n",
            "|:---------------------------------------------------------------------|------------------:|------------------:|----------------:|-----------:|-----------:|------------:|------------:|------------:|-------------:|------------------:|------------------:|----------------:|-----------:|-----------:|------------:|------------:|------------:|-------------:|------------------:|------------------:|----------------:|-----------:|-----------:|------------:|------------:|------------:|-------------:|-------------------:|-------------------:|-----------------:|------------:|------------:|-------------:|-------------:|-------------:|--------------:|\n",
            "| result/Example_of_an_image_caption_that_explains_mask..target_phrase |          0.757077 |          0.61987  |        0.61987  |   0.750864 |   0.750864 |    0.801592 |    0.757077 |    0.757077 |     0.816839 |          0.38905  |             0.185 |           0.185 |   0.342583 |   0.342583 |    0.419426 |    0.38905  |    0.38905  |     0.531431 |          0.37596  |          0.190164 |        0.190164 |   0.320492 |   0.320492 |    0.382175 |    0.37596  |    0.37596  |     0.519219 |           0.507362 |           0.331678 |         0.331678 |    0.471313 |    0.471313 |     0.534398 |     0.507362 |     0.507362 |      0.622496 |\n",
            "| result/Example_of_an_image_caption_that_explains_mask..target_word   |          0.544726 |          0.347732 |        0.347732 |   0.520266 |   0.520266 |    0.59497  |    0.544726 |    0.544726 |     0.653483 |          0.363502 |             0.165 |           0.165 |   0.314083 |   0.314083 |    0.389235 |    0.363502 |    0.363502 |     0.510824 |          0.305109 |          0.134426 |        0.134426 |   0.236448 |   0.236448 |    0.289363 |    0.305109 |    0.305109 |     0.461987 |           0.404446 |           0.215719 |         0.215719 |    0.356933 |    0.356933 |     0.424523 |     0.404446 |     0.404446 |      0.542098 |\n",
            "| result/mask.target_phrase                                            |          0.777109 |          0.656587 |        0.656587 |   0.769762 |   0.769762 |    0.814049 |    0.777109 |    0.777109 |     0.831661 |          0.466974 |             0.285 |           0.285 |   0.431917 |   0.431917 |    0.505394 |    0.466974 |    0.466974 |     0.591721 |          0.426063 |          0.22623  |        0.22623  |   0.384809 |   0.384809 |    0.457448 |    0.426063 |    0.426063 |     0.559699 |           0.556715 |           0.389272 |         0.389272 |    0.528829 |    0.528829 |     0.592297 |     0.556715 |     0.556715 |      0.661027 |\n",
            "| result/mask.target_word                                              |          0.544317 |          0.352052 |        0.352052 |   0.517171 |   0.517171 |    0.5884   |    0.544317 |    0.544317 |     0.652871 |          0.389635 |             0.205 |           0.205 |   0.345833 |   0.345833 |    0.421285 |    0.389635 |    0.389635 |     0.530641 |          0.292006 |          0.114754 |        0.114754 |   0.22541  |   0.22541  |    0.281829 |    0.292006 |    0.292006 |     0.451744 |           0.408653 |           0.223935 |         0.223935 |    0.362805 |    0.362805 |     0.430505 |     0.408653 |     0.408653 |      0.545086 |\n",
            "| result/This_is_mask..target_phrase                                   |          0.770917 |          0.650108 |        0.650108 |   0.762275 |   0.762275 |    0.806246 |    0.770917 |    0.770917 |     0.826784 |          0.431677 |             0.23  |           0.23  |   0.39675  |   0.39675  |    0.478827 |    0.431677 |    0.431677 |     0.565028 |          0.44585  |          0.236066 |        0.236066 |   0.40694  |   0.40694  |    0.481727 |    0.44585  |    0.44585  |     0.576038 |           0.549481 |           0.372058 |         0.372058 |    0.521988 |    0.521988 |     0.588933 |     0.549481 |     0.549481 |      0.65595  |\n",
            "| result/This_is_mask..target_word                                     |          0.556295 |          0.37149  |        0.37149  |   0.528294 |   0.528294 |    0.594194 |    0.556295 |    0.556295 |     0.661583 |          0.38375  |             0.195 |           0.195 |   0.337167 |   0.337167 |    0.410074 |    0.38375  |    0.38375  |     0.52592  |          0.347077 |          0.15082  |        0.15082  |   0.285137 |   0.285137 |    0.344631 |    0.347077 |    0.347077 |     0.496778 |           0.429041 |           0.239103 |         0.239103 |    0.383532 |    0.383532 |     0.449633 |     0.429041 |     0.429041 |      0.561427 |\n"
          ]
        }
      ]
    },
    {
      "cell_type": "code",
      "source": [],
      "metadata": {
        "id": "8QX1ToLxxHn5"
      },
      "execution_count": null,
      "outputs": []
    },
    {
      "cell_type": "code",
      "metadata": {
        "id": "81c87018"
      },
      "source": [
        "!vwsd-ranking-metric -p result/Example_of_an_image_caption_that_explains_mask..target_phrase -r all.gold.tmp > ranking_metrics.txt\n",
        "!vwsd-ranking-metric -p result/Example_of_an_image_caption_that_explains_mask..target_word -r all.gold.tmp >> ranking_metrics.txt\n",
        "!vwsd-ranking-metric -p result/mask.target_phrase -r all.gold.tmp >> ranking_metrics.txt\n",
        "!vwsd-ranking-metric -p result/mask.target_word -r all.gold.tmp >> ranking_metrics.txt\n",
        "!vwsd-ranking-metric -p result/This_is_mask..target_phrase -r all.gold.tmp >> ranking_metrics.txt\n",
        "!vwsd-ranking-metric -p result/This_is_mask..target_word -r all.gold.tmp >> ranking_metrics.txt"
      ],
      "execution_count": null,
      "outputs": []
    },
    {
      "cell_type": "code",
      "source": [
        "!find / -name \"vwsd-clip-baseline\""
      ],
      "metadata": {
        "id": "0rHD8NaAjTVL"
      },
      "execution_count": null,
      "outputs": []
    }
  ]
}